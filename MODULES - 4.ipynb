{
 "cells": [
  {
   "cell_type": "code",
   "execution_count": null,
   "id": "8ea0dc46",
   "metadata": {},
   "outputs": [],
   "source": [
    "# Q-2. Write a Python program to read an entire text file.\n",
    "\n",
    "with open('jenil.txt','r') as  J1:\n",
    "    print(J1.read(5))"
   ]
  },
  {
   "cell_type": "code",
   "execution_count": null,
   "id": "9cb7ce20",
   "metadata": {},
   "outputs": [],
   "source": [
    "# Q-3. Write a Python program to append text to a file and display the text.\n",
    "\n",
    "with open('krishil','w') as K1:\n",
    "    print(K1.write('my name is krishil.'))"
   ]
  },
  {
   "cell_type": "code",
   "execution_count": null,
   "id": "6803cb07",
   "metadata": {},
   "outputs": [],
   "source": [
    "# Q-4. Write a Python program to read first n lines of a file.\n",
    "\n",
    "with open('jenil.txt','r') as f1:\n",
    "    for line in (f1,line):\n",
    "        print(line)\n",
    "f1.close()"
   ]
  },
  {
   "cell_type": "code",
   "execution_count": 14,
   "id": "8a69f1d1",
   "metadata": {},
   "outputs": [
    {
     "name": "stdout",
     "output_type": "stream",
     "text": [
      "['this is a python programming.\\n']\n",
      "['this is a python programming.']\n"
     ]
    }
   ],
   "source": [
    "# Q-5 Write a Python program to read a file line by line and store it into a list\n",
    "\n",
    "with open('khushal.txt') as f1:\n",
    "    contect_list = f1.readlines()\n",
    "    \n",
    "print(contect_list)\n",
    "\n",
    "contect_list = [x.strip() for x in contect_list]\n",
    "print(contect_list)"
   ]
  },
  {
   "cell_type": "code",
   "execution_count": 10,
   "id": "ca1c7808",
   "metadata": {},
   "outputs": [
    {
     "name": "stdout",
     "output_type": "stream",
     "text": [
      "['Jessa\\n', 'Eric\\n', 'Bob']\n"
     ]
    }
   ],
   "source": [
    "# Q-6 Write a Python program to read a file line by line store it into a variable.\n",
    "def data_file(jenil):\n",
    "\n",
    "    with open(jenil,'r') as j1:\n",
    "        contect_variable = j1.readlines()\n",
    "        print(contect_variable)\n",
    "    \n",
    "data_file('jenil.txt')\n",
    "\n",
    "# contect_variable = (x.strip() for x in contect_variable)\n",
    "# print(contect_variable)"
   ]
  },
  {
   "cell_type": "code",
   "execution_count": null,
   "id": "c592b2bf",
   "metadata": {},
   "outputs": [],
   "source": [
    "# Q-7 Write a python program to find the longest words.\n",
    "\n"
   ]
  },
  {
   "cell_type": "code",
   "execution_count": 2,
   "id": "b07e2faf",
   "metadata": {},
   "outputs": [
    {
     "name": "stdout",
     "output_type": "stream",
     "text": [
      "Number of words in the file : Counter({'Jessa': 1, 'Eric': 1, 'Bob': 1})\n"
     ]
    }
   ],
   "source": [
    "# Q-9 Write a Python program to count the frequency of words in a file.\n",
    "\n",
    "from collections import Counter\n",
    "def word_count(fname):\n",
    "        with open(fname) as f:\n",
    "                return Counter(f.read().split())\n",
    "\n",
    "print(\"Number of words in the file :\",word_count(\"jenil.txt\"))"
   ]
  },
  {
   "cell_type": "code",
   "execution_count": 3,
   "id": "02c5b3d7",
   "metadata": {},
   "outputs": [],
   "source": [
    "# Q-10 Write a Python program to write a list to a file.\n",
    "\n",
    "names = ['Jessa', 'Eric', 'Bob']\n",
    "\n",
    "with open(r'C:\\Users\\PC\\Desktop\\Python Assignments\\jenil.txt', 'w') as f1:\n",
    "    f1.write('\\n'.join(names))\n"
   ]
  },
  {
   "cell_type": "code",
   "execution_count": 5,
   "id": "762e9c5a",
   "metadata": {},
   "outputs": [],
   "source": [
    "# Q-11 Write a Python program to copy the contents of a file to another file.\n",
    "\n",
    "with open('jenil.txt','r') as firstfile, open('krishil.txt','a') as secondfile:\n",
    "      \n",
    "    for line in firstfile:\n",
    "               \n",
    "             # append content to second file\n",
    "             secondfile.write(line)"
   ]
  },
  {
   "cell_type": "code",
   "execution_count": null,
   "id": "d19e3d8d",
   "metadata": {},
   "outputs": [],
   "source": [
    "# Q-12 Explain Exception handling? What is an Error in Python?\n",
    "\n",
    "Errors are conditions that cannot get recovered by any handling techniques.\n",
    "It surely causes termination of the program abnormally.\n",
    "Errors belong to unchecked type and mostly occur at runtime.\n",
    "Some of the examples of errors are Out of memory errors or System crash errors.\n",
    "Example 1 Run-time Error."
   ]
  },
  {
   "cell_type": "code",
   "execution_count": null,
   "id": "48ccfac6",
   "metadata": {},
   "outputs": [],
   "source": [
    "# Q-13 How many except statements can a try-except block have? Name Some built-in exception classes:\n",
    "\n",
    "one except statement\n",
    " Answer: d Explanation: There has to be at least one except statement\n",
    "\n",
    "ArrayIndexOutOfBoundsException, NullPointerException, and ArithmeticException"
   ]
  },
  {
   "cell_type": "code",
   "execution_count": null,
   "id": "3de8cd9a",
   "metadata": {},
   "outputs": [],
   "source": [
    "# Q-14 When will the else part of try-except-else be executed?\n",
    "\n",
    "try:\n",
    "    f1 = open('this.txt')\n",
    "except:\n",
    "    print('this')\n",
    "finally:\n",
    "    f1.close()"
   ]
  },
  {
   "cell_type": "code",
   "execution_count": null,
   "id": "4209dbe6",
   "metadata": {},
   "outputs": [],
   "source": [
    "# Q-15 Can one block of except statements handle multiple exception?\n",
    "\n",
    " a Explanation: Each type of exception can be specified directly. \n",
    "        There is no need to put it in a list."
   ]
  },
  {
   "cell_type": "code",
   "execution_count": null,
   "id": "cd1d080f",
   "metadata": {},
   "outputs": [],
   "source": [
    "# Q-16 When is the finally block executed?\n",
    "\n",
    "The finally block always executes when the try block exits. \n",
    "This ensures that the finally block is executed even if an unexpected exception occurs."
   ]
  },
  {
   "cell_type": "code",
   "execution_count": null,
   "id": "9ef58d37",
   "metadata": {},
   "outputs": [],
   "source": [
    "# Q-17 What happens when „1‟== 1 is executed?\n",
    "\n",
    "1 Answer. Easy explanation - It simply evaluates to False and does not raise any exception."
   ]
  },
  {
   "cell_type": "code",
   "execution_count": 35,
   "id": "22fcb417",
   "metadata": {},
   "outputs": [
    {
     "data": {
      "text/plain": [
       "23"
      ]
     },
     "execution_count": 35,
     "metadata": {},
     "output_type": "execute_result"
    }
   ],
   "source": [
    "# Q-18 How Do You Handle Exceptions With Try/Except/Finally In Python? Explain with coding snippets.\n",
    "\n",
    "# num = int(input('Enter a Number'))\n",
    "# A = num % 2\n",
    "# if A > 0:\n",
    "#     print('This is a odd number.')\n",
    "# else:\n",
    "#     print('This is an even number.')\n",
    "\n",
    "def odd(a):\n",
    "    if a%2 !=0:\n",
    "        return a\n",
    "    else:\n",
    "        raise ValueError('please enter a odd number')\n",
    "        \n",
    "odd(23)"
   ]
  },
  {
   "cell_type": "code",
   "execution_count": null,
   "id": "990a9fc3",
   "metadata": {},
   "outputs": [],
   "source": [
    "# Q-19 What are oops concepts? Is multiple inheritance supported in java\n",
    "\n",
    "Object-Oriented Programming System (OOPs) is a programming concept that works on \n",
    "the principles of abstraction, encapsulation, inheritance, and polymorphism.\n",
    "It allows users to create objects they want and create methods to handle those objects.\n",
    "\n",
    "The Java programming language supports multiple inheritance of \n",
    "type, which is the ability of a class to implement more than one interface.\n",
    "An object can have multiple types: the type of its own class and the types of all the interfaces that the class implements.\n"
   ]
  },
  {
   "cell_type": "code",
   "execution_count": null,
   "id": "45aea5f8",
   "metadata": {},
   "outputs": [],
   "source": [
    "# Q-20 How to Define a Class in Python? What Is Self? Give An Example Of A Python Class\n",
    "\n",
    "A class in Python can be defined using the class keyword.\n",
    "As per the syntax above, a class is defined using the class keyword followed by the class name and\n",
    ": operator after the class name, which allows you to continue in \n",
    "    the next indented line to define class members.\n",
    "    "
   ]
  },
  {
   "cell_type": "code",
   "execution_count": 19,
   "id": "7f21dc6b",
   "metadata": {},
   "outputs": [
    {
     "data": {
      "text/plain": [
       "120"
      ]
     },
     "execution_count": 19,
     "metadata": {},
     "output_type": "execute_result"
    }
   ],
   "source": [
    "# Q-21 Write a Python class named Rectangle constructed by a length and width and a method which will compute the area of a rectangle\n",
    "\n",
    "class Rectangle():\n",
    "    def __init__(self,l,w):\n",
    "        self.lenght = l\n",
    "        self.width = w\n",
    "        \n",
    "    def Rectangle_area(self):\n",
    "        return   self.lenght*self.width\n",
    "    \n",
    "r1 = Rectangle(12, 10)\n",
    "r1.Rectangle_area()"
   ]
  },
  {
   "cell_type": "code",
   "execution_count": 22,
   "id": "978c8bb2",
   "metadata": {},
   "outputs": [
    {
     "data": {
      "text/plain": [
       "200.96"
      ]
     },
     "execution_count": 22,
     "metadata": {},
     "output_type": "execute_result"
    }
   ],
   "source": [
    "# Q-22 Write a Python class named Circle constructed by a radius and two methods which will\n",
    "# compute the area and the perimeter of a circle\n",
    "\n",
    "class circle():\n",
    "    def __init__(self,r):\n",
    "        self.radius = r\n",
    "        \n",
    "    def area(self):\n",
    "        return self.radius **2*3.14\n",
    "        \n",
    "    def perimeter(self):\n",
    "        return 2*self.radius *3.14  \n",
    "    \n",
    "c1 = circle(8)\n",
    "c1.area()\n",
    "# c1.perimeter()"
   ]
  },
  {
   "cell_type": "code",
   "execution_count": 5,
   "id": "8b87753e",
   "metadata": {},
   "outputs": [
    {
     "name": "stdout",
     "output_type": "stream",
     "text": [
      "this is a method of father\n"
     ]
    }
   ],
   "source": [
    "# Q-23 Explain Inheritance in Python with an example? What is init? Or What Is A Constructor In Python?\n",
    "\n",
    "class Father:\n",
    "    money = 'too many'\n",
    "    def show(self):\n",
    "        print('this is a method of father')\n",
    "        \n",
    "class son(Father):\n",
    "    pass\n",
    "\n",
    "f1 = Father()\n",
    "f1.show()\n",
    "# init is the constructor of python\n",
    "# the __init__ function is called every time an objectis created from a class"
   ]
  }
 ],
 "metadata": {
  "kernelspec": {
   "display_name": "Python 3 (ipykernel)",
   "language": "python",
   "name": "python3"
  },
  "language_info": {
   "codemirror_mode": {
    "name": "ipython",
    "version": 3
   },
   "file_extension": ".py",
   "mimetype": "text/x-python",
   "name": "python",
   "nbconvert_exporter": "python",
   "pygments_lexer": "ipython3",
   "version": "3.9.13"
  }
 },
 "nbformat": 4,
 "nbformat_minor": 5
}
