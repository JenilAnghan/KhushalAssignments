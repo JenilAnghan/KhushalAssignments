{
 "cells": [
  {
   "cell_type": "code",
   "execution_count": null,
   "id": "46b3352d",
   "metadata": {},
   "outputs": [],
   "source": [
    "Q-1. write a python program to check if a number is positive, negetive or zero."
   ]
  },
  {
   "cell_type": "code",
   "execution_count": null,
   "id": "2185d48e",
   "metadata": {},
   "outputs": [],
   "source": [
    "a=int(input())\n",
    "if a>0:\n",
    "    print('positive')\n",
    "elif a==0:\n",
    "    print('zero')\n",
    "else:\n",
    "    print('negetive')"
   ]
  },
  {
   "cell_type": "code",
   "execution_count": null,
   "id": "d54edb65",
   "metadata": {},
   "outputs": [],
   "source": [
    "Q-2 Write a Python program to get the Factorial number of given number."
   ]
  },
  {
   "cell_type": "code",
   "execution_count": null,
   "id": "139dadbc",
   "metadata": {},
   "outputs": [],
   "source": [
    "a = int(input()) \n",
    "f = 1 \n",
    "for i in range(1,a+1): \n",
    "    f = f * i \n",
    " \n",
    "print(f'The factorial of the number is {f}') "
   ]
  },
  {
   "cell_type": "code",
   "execution_count": null,
   "id": "ae760c36",
   "metadata": {},
   "outputs": [],
   "source": [
    "Q-3 Write a Python program to get the Fibonacci series of given range."
   ]
  },
  {
   "cell_type": "code",
   "execution_count": null,
   "id": "3b4d9a7c",
   "metadata": {},
   "outputs": [],
   "source": [
    "num = int(input())\n",
    "n1, n2 = 0, 1\n",
    "print(\"Fibonacci Series:\", n1, n2, end=\" \")\n",
    "for i in range(2, num):\n",
    "    n3 = n1 + n2\n",
    "    n1 = n2\n",
    "    n2 = n3\n",
    "    print(n3, end=\" \")\n",
    "\n",
    "print()"
   ]
  },
  {
   "cell_type": "code",
   "execution_count": null,
   "id": "f7c3e766",
   "metadata": {},
   "outputs": [],
   "source": [
    "Q-4 How memory is managed in Python?"
   ]
  },
  {
   "cell_type": "code",
   "execution_count": null,
   "id": "4776cbf1",
   "metadata": {},
   "outputs": [],
   "source": [
    "->Python involves a private heap containing all Python objects and data structures. "
   ]
  },
  {
   "cell_type": "code",
   "execution_count": null,
   "id": "6d5d2295",
   "metadata": {},
   "outputs": [],
   "source": [
    "Q-5 What is the purpose continue statement in python?"
   ]
  },
  {
   "cell_type": "code",
   "execution_count": null,
   "id": "bb12053d",
   "metadata": {},
   "outputs": [],
   "source": [
    "->Python returns the control to the beginning of the while loop."
   ]
  },
  {
   "cell_type": "code",
   "execution_count": null,
   "id": "db186f0b",
   "metadata": {},
   "outputs": [],
   "source": [
    "Q-6. write python program that swap two number with temp variable and without temp variable."
   ]
  },
  {
   "cell_type": "code",
   "execution_count": null,
   "id": "98d81ebe",
   "metadata": {},
   "outputs": [],
   "source": [
    "\n",
    "a = 10\n",
    "b = 89\n",
    "a,b = b, a\n",
    "# print(a, b)\n",
    "\n",
    "var1 = 'water'\n",
    "var2 = 'fenta'\n",
    "b = var1\n",
    "var1 = var2\n",
    "var2 = b\n",
    "print(var2)"
   ]
  },
  {
   "cell_type": "code",
   "execution_count": null,
   "id": "76333aa9",
   "metadata": {},
   "outputs": [],
   "source": [
    "krishil=50\n",
    "jenil=90\n",
    "\n",
    "krishil,jenil = jenil,krishil\n",
    "\n",
    "print(jenil,krishil)"
   ]
  },
  {
   "cell_type": "code",
   "execution_count": null,
   "id": "f3bc2bac",
   "metadata": {},
   "outputs": [],
   "source": [
    "Q-7. write a paython program to find whether a given number is even or odd, print out an appropriate message to the user."
   ]
  },
  {
   "cell_type": "code",
   "execution_count": null,
   "id": "0e179f3e",
   "metadata": {},
   "outputs": [],
   "source": [
    "num = int(input('enter a number'))\n",
    "if num % 2 == 0:\n",
    "    print('this is even number')\n",
    "else:\n",
    "    print('this is odd numner')\n"
   ]
  },
  {
   "cell_type": "code",
   "execution_count": null,
   "id": "18f08c7a",
   "metadata": {},
   "outputs": [],
   "source": [
    "Q-8.  Write a Python program to test whether a passed letter is a vowel or not"
   ]
  },
  {
   "cell_type": "code",
   "execution_count": null,
   "id": "7d9b249e",
   "metadata": {},
   "outputs": [],
   "source": [
    "z = input()\n",
    "string=z.lower()\n",
    "print(string)\n",
    "jenil_1='a'\n",
    "jenil_2='e'\n",
    "jenil_3='i'\n",
    "jenil_4='o'\n",
    "jenil_5='u'\n",
    "if((jenil_1==z or jenil_2==z) or (jenil_3==z or jenil_4==z) ) or jenil_5==z:\n",
    "    print('character is vowel')\n",
    "    \n",
    "else:\n",
    "    print('character is not vowel')\n"
   ]
  },
  {
   "cell_type": "code",
   "execution_count": null,
   "id": "e750aa49",
   "metadata": {},
   "outputs": [],
   "source": [
    "Q-9. write a python program two sum of three given integers. however, if two values are equal sum will be zero."
   ]
  },
  {
   "cell_type": "code",
   "execution_count": null,
   "id": "a2d9a448",
   "metadata": {},
   "outputs": [],
   "source": [
    "a=int(input())\n",
    "b=int(input())\n",
    "c=int(input())\n",
    "if a==b or b==c or a==c or a+b+c == 0:\n",
    "    print('true')\n",
    "else:\n",
    "    print('false')"
   ]
  },
  {
   "cell_type": "code",
   "execution_count": null,
   "id": "41c5a5c8",
   "metadata": {},
   "outputs": [],
   "source": [
    "Q-10. write a paython program that will return true if the two given integervalues are equal or their sum or difference is 5."
   ]
  },
  {
   "cell_type": "code",
   "execution_count": null,
   "id": "cacdf750",
   "metadata": {},
   "outputs": [],
   "source": [
    "a = int(input())\n",
    "b = int(input())\n",
    "if a == b or (a+b == 5) or a-b == 5:\n",
    "    print(True)\n",
    "else:\n",
    "    print(False)"
   ]
  },
  {
   "cell_type": "code",
   "execution_count": null,
   "id": "dcd88ada",
   "metadata": {},
   "outputs": [],
   "source": [
    "a = int(input())\n",
    "b = int(input())\n",
    "if a * b == 10 or a-b == 10:\n",
    "    print('true')\n",
    "else:\n",
    "    print('false')"
   ]
  },
  {
   "cell_type": "code",
   "execution_count": null,
   "id": "75bb7fba",
   "metadata": {},
   "outputs": [],
   "source": [
    "Q-11. Write a python program to sum of the first n positive integers."
   ]
  },
  {
   "cell_type": "code",
   "execution_count": null,
   "id": "93b6bfc5",
   "metadata": {},
   "outputs": [],
   "source": [
    "n = int(input())\n",
    "a =  (n * 3) \n",
    "print(\"positive integers:\", a)"
   ]
  },
  {
   "cell_type": "code",
   "execution_count": null,
   "id": "21952268",
   "metadata": {},
   "outputs": [],
   "source": [
    "Q-12. Write a Python program to calculate the length of a string."
   ]
  },
  {
   "cell_type": "code",
   "execution_count": null,
   "id": "bc54a805",
   "metadata": {},
   "outputs": [],
   "source": [
    "list1 = 'jenil anghan'\n",
    "a = len('jenil anghan')\n",
    "print(a)"
   ]
  },
  {
   "cell_type": "code",
   "execution_count": null,
   "id": "59ce2997",
   "metadata": {},
   "outputs": [],
   "source": [
    "Q-13. Write a Python program to count the number of characters (character\n",
    "frequency) in a string\n"
   ]
  },
  {
   "cell_type": "code",
   "execution_count": null,
   "id": "8d2dacdf",
   "metadata": {},
   "outputs": [],
   "source": [
    "str1=input()\n",
    "str2=''\n",
    "\n",
    "for i in str1:\n",
    "    if i not in str2:\n",
    "        str2=str2+i\n",
    "        print(i,str1.count(i))"
   ]
  },
  {
   "cell_type": "code",
   "execution_count": null,
   "id": "7466c75c",
   "metadata": {},
   "outputs": [],
   "source": [
    "\n",
    "Q-14. What are negative indexes and why are they used?\n"
   ]
  },
  {
   "cell_type": "code",
   "execution_count": null,
   "id": "1ca7ed87",
   "metadata": {},
   "outputs": [],
   "source": [
    "Q-15. Write a Python program to count occurrences of a substring in a string.\n"
   ]
  },
  {
   "cell_type": "code",
   "execution_count": null,
   "id": "049905d6",
   "metadata": {},
   "outputs": [],
   "source": [
    "str1 = 'python programming language'\n",
    "a = (str1.count(\"python\"))\n",
    "print(a)"
   ]
  },
  {
   "cell_type": "code",
   "execution_count": null,
   "id": "c26244ef",
   "metadata": {},
   "outputs": [],
   "source": [
    "Q-16.  Write a Python program to count the occurrences of each word in a given\n",
    "sentence\n"
   ]
  },
  {
   "cell_type": "code",
   "execution_count": null,
   "id": "cdce5158",
   "metadata": {},
   "outputs": [],
   "source": [
    "str1=input()\n",
    "iter1=str1.split()\n",
    "str2=''\n",
    "for i in iter1:\n",
    "    str2=str2+i\n",
    "    print(i,str1.count(i))"
   ]
  },
  {
   "cell_type": "code",
   "execution_count": null,
   "id": "4638b518",
   "metadata": {},
   "outputs": [],
   "source": [
    "Q-17.  Write a Python program to get a single string from two given strings,\n",
    "separated by a space and swap the first two characters of each string"
   ]
  },
  {
   "cell_type": "code",
   "execution_count": null,
   "id": "342bb58a",
   "metadata": {},
   "outputs": [],
   "source": [
    "str1,str2='abc','xyz'\n",
    "print(str1,str2)\n",
    "str2,str1=str1,str2\n",
    "print(str1,str2)\n",
    "\n",
    "x=str2[:2]+str1[2:]\n",
    "y=str1[:2]+str2[2:]\n",
    "print(x,end='')\n",
    "print(y)"
   ]
  },
  {
   "cell_type": "code",
   "execution_count": null,
   "id": "85148b8b",
   "metadata": {},
   "outputs": [],
   "source": []
  },
  {
   "cell_type": "code",
   "execution_count": null,
   "id": "9a6d1d8b",
   "metadata": {},
   "outputs": [],
   "source": [
    "Q-19. Write a Python program to find the first appearance of the substring 'not'\n",
    "and 'poor' froma given string, if 'not' follows the 'poor', replace the whole\n",
    "'not'...'poor'substring with 'good'. Return the resulting string"
   ]
  },
  {
   "cell_type": "code",
   "execution_count": null,
   "id": "5cf1e153",
   "metadata": {},
   "outputs": [],
   "source": [
    "Q-20.  Write a Python function that takes a list of words and returns the length\n",
    "of the longest one.\n"
   ]
  },
  {
   "cell_type": "code",
   "execution_count": null,
   "id": "6be3769d",
   "metadata": {},
   "outputs": [],
   "source": [
    "a=input()\n",
    "b=input()\n",
    "x=len(a)\n",
    "y=len(b)\n",
    "\n",
    "if x>y:\n",
    "    print(a)\n",
    "elif x==y:\n",
    "    print('string length is equal')\n",
    "else:\n",
    "    print(b)"
   ]
  },
  {
   "cell_type": "code",
   "execution_count": null,
   "id": "d640bdd3",
   "metadata": {},
   "outputs": [],
   "source": [
    "Q-21.  Write a Python function to reverses a string if its length is a multiple of 4."
   ]
  },
  {
   "cell_type": "code",
   "execution_count": null,
   "id": "ce6a489f",
   "metadata": {},
   "outputs": [],
   "source": [
    "list1 = ['python', 2]\n",
    "a = list1.reverse()\n",
    "\n",
    "#a * 4\n",
    "\n",
    "print(a)"
   ]
  },
  {
   "cell_type": "code",
   "execution_count": null,
   "id": "8e603028",
   "metadata": {},
   "outputs": [],
   "source": [
    "Q-22. Write a Python program to get a string made of the first 2 and the last 2\n",
    "chars from a given a string. Ifthe string length islessthan 2,return instead\n",
    "of the empty string."
   ]
  },
  {
   "cell_type": "code",
   "execution_count": null,
   "id": "42f5ffbb",
   "metadata": {},
   "outputs": [],
   "source": [
    "str1=input()\n",
    "x=len(str1)\n",
    "# print(x)\n",
    "\n",
    "str2=str1[:2]\n",
    "#print(str2)\n",
    "\n",
    "str3=str1[-2:]\n",
    "#print(str3)\n",
    "\n",
    "str4=str2+str3\n",
    "if x<2:\n",
    "    print('empty string')\n",
    "else:\n",
    "    print(str4)"
   ]
  },
  {
   "cell_type": "code",
   "execution_count": null,
   "id": "a8fdf46c",
   "metadata": {},
   "outputs": [],
   "source": [
    "Q-23. Write a Python function to insert a string in the middle of a string"
   ]
  },
  {
   "cell_type": "code",
   "execution_count": null,
   "id": "95832685",
   "metadata": {},
   "outputs": [],
   "source": [
    "a = 'krish'\n",
    "b = 'vijay'\n",
    "c = a[:2] + b + a[2:]\n",
    "c"
   ]
  },
  {
   "cell_type": "code",
   "execution_count": null,
   "id": "67412827",
   "metadata": {},
   "outputs": [],
   "source": [
    "str1 = 'he is not poor'\n",
    "str2 = 'he is good poor'\n",
    "\n",
    "#a = string.find('not')\n",
    "#b = string.find('poor')\n",
    "#a,b\n",
    "\n",
    "a = str1.replace('not','good')\n",
    "\n",
    "b = str2.replace('good','poor')\n",
    "\n",
    "a,b"
   ]
  },
  {
   "cell_type": "code",
   "execution_count": 3,
   "id": "78d91cf2",
   "metadata": {},
   "outputs": [
    {
     "name": "stdout",
     "output_type": "stream",
     "text": [
      "he is good not poor\n"
     ]
    },
    {
     "data": {
      "text/plain": [
       "'he is good good'"
      ]
     },
     "execution_count": 3,
     "metadata": {},
     "output_type": "execute_result"
    }
   ],
   "source": [
    "str1 = input()\n",
    "\n",
    "\n",
    "a = str1.replace('not poor','good')\n",
    "\n",
    "#b = a.replace('good','poor')\n",
    "\n",
    "a\n"
   ]
  }
 ],
 "metadata": {
  "kernelspec": {
   "display_name": "Python 3 (ipykernel)",
   "language": "python",
   "name": "python3"
  },
  "language_info": {
   "codemirror_mode": {
    "name": "ipython",
    "version": 3
   },
   "file_extension": ".py",
   "mimetype": "text/x-python",
   "name": "python",
   "nbconvert_exporter": "python",
   "pygments_lexer": "ipython3",
   "version": "3.9.12"
  }
 },
 "nbformat": 4,
 "nbformat_minor": 5
}
