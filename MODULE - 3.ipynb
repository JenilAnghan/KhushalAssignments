{
 "cells": [
  {
   "cell_type": "code",
   "execution_count": null,
   "id": "79adb9ff",
   "metadata": {},
   "outputs": [],
   "source": [
    "# Q -2 How will you remove last object from a list?\n",
    "list1 = [1,2,3,4,5,6,7,8,9]\n",
    "list1 = list1[0:-1]\n",
    "print(list1)"
   ]
  },
  {
   "cell_type": "code",
   "execution_count": null,
   "id": "67cc5751",
   "metadata": {},
   "outputs": [],
   "source": [
    "# Q 3 Suppose list1 is [2, 33, 222, 14, and 25], what is list1 [-1]?\n",
    "list1 = [2,33,222,14,25]\n",
    "print(list1[-1])"
   ]
  },
  {
   "cell_type": "code",
   "execution_count": null,
   "id": "722d8788",
   "metadata": {},
   "outputs": [],
   "source": [
    "#Q-4 Differentiate between append () and extend () methods?\n",
    "str1 = 'python'\n",
    "list1 = [1,2,3,4]\n",
    "list1.append(str1)\n",
    "print(list1)\n",
    "list1.extend(str1)\n",
    "print(list1)\n"
   ]
  },
  {
   "cell_type": "code",
   "execution_count": null,
   "id": "eac85df9",
   "metadata": {},
   "outputs": [],
   "source": [
    "# Q-5 Write a Python function to get the largest number, smallest num and sum of all from a list.\n",
    "\n",
    "list1 = [34,43,42,78,23,54]\n",
    "v = 0\n",
    "\n",
    "x = max(list1)\n",
    "print('largest number is:',x)\n",
    "\n",
    "y = min(list1)\n",
    "print('smallest number is:',y )\n",
    "\n",
    "for i in list1:\n",
    "    v+=i\n",
    "print('sum of all elements:',v)\n"
   ]
  },
  {
   "cell_type": "code",
   "execution_count": null,
   "id": "81ebd285",
   "metadata": {},
   "outputs": [],
   "source": [
    "#Q-6 How will you compare two lists?\n",
    "list1 = [1,2,3,4]\n",
    "list2 = [1,2,3,4,'yug']\n",
    "if list1==list2:\n",
    "    print(True)\n",
    "else:\n",
    "    print(False)"
   ]
  },
  {
   "cell_type": "code",
   "execution_count": null,
   "id": "a4c73b9b",
   "metadata": {},
   "outputs": [],
   "source": [
    "# Q-7 Write a Python program to count the number of strings where the string length is 2 or more and \n",
    "# the first and last character are same from a given list of strings.\n",
    "\n",
    "list1 = ['jenil','vijay','krishil','nayan','nitin']\n",
    "a=0\n",
    "for i in list1:\n",
    "    if len(i)>2 and i[0]==i[-1]:\n",
    "        a+=1\n",
    "print(a)\n",
    "      "
   ]
  },
  {
   "cell_type": "code",
   "execution_count": null,
   "id": "26e91eab",
   "metadata": {},
   "outputs": [],
   "source": [
    "#Q-8 Write a Python program to remove duplicates from a list\n",
    "list1 = [12,43,34,67,89,12]\n",
    "set1 = set(list1)\n",
    "set1\n",
    "\n",
    "list1 = list(set1)\n",
    "list1"
   ]
  },
  {
   "cell_type": "code",
   "execution_count": null,
   "id": "e8730e60",
   "metadata": {},
   "outputs": [],
   "source": [
    "#Q-9 Write a Python program to check a list is empty or not.\n",
    "list1 = ['krishil','jenil','jeel']\n",
    "\n",
    "def a(list1):\n",
    "    if len(list1) == 0:\n",
    "        print('empty str')\n",
    "    else:\n",
    "        print('not empty str')\n",
    "        \n",
    "list(filter(a,list1))"
   ]
  },
  {
   "cell_type": "code",
   "execution_count": 1,
   "id": "5e7644d0",
   "metadata": {},
   "outputs": [
    {
     "name": "stdout",
     "output_type": "stream",
     "text": [
      "True\n"
     ]
    }
   ],
   "source": [
    "#Q-10 Write a Python function that takes two lists and returns true if they have at least one common member.\n",
    "list1 = [12,45,0,67,89]\n",
    "list2 = [54,0,2376]\n",
    "result = False\n",
    "for i in list1:\n",
    "    for j in list2:\n",
    "        if i == j:\n",
    "            result = True\n",
    "print(result)\n",
    "        "
   ]
  },
  {
   "cell_type": "code",
   "execution_count": null,
   "id": "e094830a",
   "metadata": {},
   "outputs": [],
   "source": [
    "#Q-11 Write a Python program to generate and print a list of first and last 5 elements where the values are square of numbers between 1 and 30.\n",
    "\n",
    "list1 = []\n",
    "for i in range(1,31):\n",
    "    list1.append(i)\n",
    "print(list1)\n",
    "\n",
    "l1 = list1[0:5:]\n",
    "l2 = list1[-5::]\n",
    "print(l1+l2)\n"
   ]
  },
  {
   "cell_type": "code",
   "execution_count": null,
   "id": "70a14782",
   "metadata": {},
   "outputs": [],
   "source": [
    "#Q-12 Write a Python function that takes a list and returns a new list with unique \n",
    "elements of the first list.\n",
    "def unique(a):\n",
    "    x =[]\n",
    "    for i in a:\n",
    "        if i not in x:\n",
    "            x.append(i)\n",
    "    return x\n",
    "print(unique([1,2,3,4,4,5,5,6]))"
   ]
  },
  {
   "cell_type": "code",
   "execution_count": null,
   "id": "b7680b12",
   "metadata": {},
   "outputs": [],
   "source": [
    "# Q-13 Write a Python program to convert a list of characters into a string.\n",
    "\n",
    "list1 = ['krishil','jenil','vijay']\n",
    "str1 = ''\n",
    " \n",
    "for i in list1:\n",
    "    str1 = str1 + str(i)\n",
    "print(str1)"
   ]
  },
  {
   "cell_type": "code",
   "execution_count": null,
   "id": "038431ad",
   "metadata": {},
   "outputs": [],
   "source": [
    "# Q-15 Write a Python program to find the second smallest number in a list.\n",
    "\n",
    "l1 = [1,3,5,78]\n",
    "x = min(l1)\n",
    "l1.remove(x)\n",
    "\n",
    "y = min (l1)\n",
    "l1.remove(y)\n",
    "\n",
    "print(y)"
   ]
  },
  {
   "cell_type": "code",
   "execution_count": null,
   "id": "c9d004dc",
   "metadata": {},
   "outputs": [],
   "source": [
    "# Q-16 Write a Python program to get unique values from a list\n",
    "\n",
    "l1 = [1,2,2,3,5]\n",
    "l2 = []\n",
    "\n",
    "for i in l1:\n",
    "    if i not in l2:\n",
    "        if l1.count(i) == 1: \n",
    "            l2.append(i)\n",
    "print(l2)"
   ]
  },
  {
   "cell_type": "code",
   "execution_count": null,
   "id": "08405a9a",
   "metadata": {
    "scrolled": true
   },
   "outputs": [],
   "source": [
    "# Q-17 Write a Python program to check whether a list contains a sub list\n",
    "\n",
    "l1 = [1,2,3,4,5]\n",
    "l2 = [1,2,4,5]\n",
    "\n",
    "str1=''\n",
    "str2=''\n",
    "\n",
    "for i in l1:\n",
    "    str(i)\n",
    "    str1=str1+str(i)\n",
    "print(str1)\n",
    "\n",
    "for j in l2:\n",
    "    str(j)\n",
    "    str2=str2+str(j)\n",
    "print(str2)\n",
    "\n",
    "if str1==str2:\n",
    "    print(True)\n",
    "else:\n",
    "    print(False)"
   ]
  },
  {
   "cell_type": "code",
   "execution_count": null,
   "id": "c8c6916f",
   "metadata": {},
   "outputs": [],
   "source": [
    "# Q-18 Write a Python program to split a list into different variables.\n",
    "\n",
    "list1 = [1,2,3,4]\n",
    "#l1,l2,l3,l4 = list1\n",
    "l1 = list1[0]\n",
    "l2 = list1[1]\n",
    "l3 = list1[2]\n",
    "l4 = list1[3]\n",
    "print(l1,l2,l3,l4)"
   ]
  },
  {
   "cell_type": "code",
   "execution_count": null,
   "id": "689948da",
   "metadata": {},
   "outputs": [],
   "source": [
    "# Q-19 What is tuple? Difference between list and tuple.\n",
    "\n",
    "#-->  Tuple is the collection data type used to store multiple element of different data type in a \n",
    "#  single variable.\n",
    "#  Tuple is similar to list but list is mutable and tuple is immutable."
   ]
  },
  {
   "cell_type": "code",
   "execution_count": null,
   "id": "e0105954",
   "metadata": {},
   "outputs": [],
   "source": [
    "# Q-20 Write a Python program to create a tuple with different data types.\n",
    "\n",
    "tuple1 = (1,2,'jenil',5.6,['apple',34,6.7],{1,2,3},{'krishil':33,'vijay':98},(5,6,7))\n",
    "print(tuple1)"
   ]
  },
  {
   "cell_type": "code",
   "execution_count": null,
   "id": "555dbce7",
   "metadata": {},
   "outputs": [],
   "source": [
    "#Q-21 Write a Python program to create a tuple with numbers.\n",
    "a = 1,2,34,5\n",
    "print(a)"
   ]
  },
  {
   "cell_type": "code",
   "execution_count": null,
   "id": "ba61bf70",
   "metadata": {},
   "outputs": [],
   "source": [
    "#Q-22 Write a Python program to convert a tuple to a string.\n",
    "def a(tup):\n",
    "    str = ''\n",
    "    for item in tup:\n",
    "        str = str + item\n",
    "    return str\n",
    "\n",
    "tuple = ('k','r','i','s','h','i','l')\n",
    "str1 = a(tuple)\n",
    "print(str1)"
   ]
  },
  {
   "cell_type": "code",
   "execution_count": null,
   "id": "0405c0bd",
   "metadata": {},
   "outputs": [],
   "source": [
    "# Q-23 Write a Python program to check whether an element exists within a tuple.\n",
    "\n",
    "tuple1 = (1,2,3,(23,),42,'yug',4.4,{'yug':99},[9,8,7])\n",
    "element = (23,)\n",
    "if element in tuple1:\n",
    "    print('Element exist')\n",
    "else:\n",
    "    print('Element don\\'t exist')"
   ]
  },
  {
   "cell_type": "code",
   "execution_count": null,
   "id": "284d8d38",
   "metadata": {},
   "outputs": [],
   "source": [
    "#Q-24 Write a Python program to find the length of a tuple.\n",
    "tuple = (\"krishil\",'krish')\n",
    "print(tuple)\n",
    "\n",
    "print(len(tuple))"
   ]
  },
  {
   "cell_type": "code",
   "execution_count": null,
   "id": "7473ebe9",
   "metadata": {},
   "outputs": [],
   "source": [
    "# Q-25 Write a Python program to convert a list to a tuple.\n",
    "\n",
    "list1 = ['krishil','jenil']\n",
    "tuple(list1)\n"
   ]
  },
  {
   "cell_type": "code",
   "execution_count": null,
   "id": "ba45fcae",
   "metadata": {},
   "outputs": [],
   "source": [
    "# Q-26 Write a Python program to reverse a tuple.\n",
    "\n",
    "a = (1,3,4,5)\n",
    "a[-1::-1]"
   ]
  },
  {
   "cell_type": "code",
   "execution_count": null,
   "id": "e8d16bba",
   "metadata": {},
   "outputs": [],
   "source": [
    "# Q-27 Write a Python program to replace last value of tuples in a list.\n",
    "\n",
    "a = (1,2,3,4,5)\n",
    "b = a[-1]\n",
    "c = list(a)\n",
    "list1 = []\n",
    "list1.append(b)\n",
    "c.remove(5)\n",
    "c.append(list1)\n",
    "tuple(c)\n"
   ]
  },
  {
   "cell_type": "code",
   "execution_count": null,
   "id": "afae22bb",
   "metadata": {},
   "outputs": [],
   "source": [
    "# Q-28 Write a Python program to find the repeated items of a tuple.\n",
    "\n",
    "tup = (1,2,3,3,4,5,6,6)\n",
    "l1=list(tup)\n",
    "l2 = []\n",
    "\n",
    "for i in l1:\n",
    "    if l1.count(i)>=2:\n",
    "        if i not in l2:\n",
    "            l2.append(i)\n",
    "print(l2)\n"
   ]
  },
  {
   "cell_type": "code",
   "execution_count": null,
   "id": "70f871e4",
   "metadata": {},
   "outputs": [],
   "source": [
    "# Q-29 Write a Python program to remove an empty tuple(s) from a list of tuples.\n",
    "\n",
    "a = [(1,2,3),(6,5),()]\n",
    "l1 = []\n",
    "for i in a:\n",
    "    v=len(i)\n",
    "    if v == 0:\n",
    "        l1.append(i)\n",
    "a.remove(())\n",
    "print(a)\n"
   ]
  },
  {
   "cell_type": "code",
   "execution_count": null,
   "id": "4952d4a3",
   "metadata": {},
   "outputs": [],
   "source": [
    "# Q-30 Write a Python program to unzip a list of tuples into individual lists.\n",
    "\n",
    "list_of_tuples = [(1,2),(3,4),(5,6)]\n",
    "(t1,t2,t3) = list_of_tuples\n",
    "\n",
    "t1 = list(t1)\n",
    "t2 = list(t2)\n",
    "t3 = list(t3)\n",
    "\n",
    "print(t1)\n",
    "print(t2)\n",
    "print(t3)"
   ]
  },
  {
   "cell_type": "code",
   "execution_count": null,
   "id": "185bdbca",
   "metadata": {},
   "outputs": [],
   "source": [
    "# Q-31 Write a Python program to convert a list of tuples into a dictionary.\n",
    "\n",
    "tup = [('krishil','jenil'),(1,2)]\n",
    "a = dict(tup)\n",
    "a"
   ]
  },
  {
   "cell_type": "code",
   "execution_count": null,
   "id": "67325440",
   "metadata": {},
   "outputs": [],
   "source": [
    "a = ['errt']\n",
    "b = tuple(a)\n",
    "b"
   ]
  },
  {
   "cell_type": "code",
   "execution_count": null,
   "id": "696b9d01",
   "metadata": {},
   "outputs": [],
   "source": [
    "# Q-32 How will you create a dictionary using tuples in python?\n",
    "\n",
    "t1=((1,2),(3,4))\n",
    "a = dict(t1)\n",
    "a"
   ]
  },
  {
   "cell_type": "code",
   "execution_count": null,
   "id": "7611268d",
   "metadata": {},
   "outputs": [],
   "source": [
    "# Q-33 Write a Python script to sort (ascending and descending) a dictionary by value.\n",
    "\n",
    "dict={'a':1,'b':4,'c':3}\n",
    "x = dict.values()\n",
    "y = list(x)\n",
    "y.sort()\n",
    "print(y)"
   ]
  },
  {
   "cell_type": "code",
   "execution_count": null,
   "id": "ddb08df3",
   "metadata": {},
   "outputs": [],
   "source": [
    "# Q-34 Write a Python script to concatenate following dictionaries to create a new one.\n",
    "\n",
    "d1={'krishil':'jenil'}\n",
    "d2 = {'vijay':'jeel'}\n",
    "d3 = {}\n",
    "\n",
    "for i in (d1,d2):\n",
    "    d3.update(i)\n",
    "    \n",
    "print(d3)"
   ]
  },
  {
   "cell_type": "code",
   "execution_count": null,
   "id": "5561f597",
   "metadata": {},
   "outputs": [],
   "source": [
    "# Q-35 Write a Python script to check if a given key already exists in a dictionary.\n",
    "\n",
    "key = 'jenil'\n",
    "d1 = {1:2,'jenil':'vijay'}\n",
    "\n",
    "for i in d1:\n",
    "    if i == key:\n",
    "        print(key,'is already exists')\n",
    "\n",
    "    else:\n",
    "        print(i)"
   ]
  },
  {
   "cell_type": "code",
   "execution_count": null,
   "id": "61064899",
   "metadata": {},
   "outputs": [],
   "source": [
    "# Q-36 How Do You Traverse Through A Dictionary Object In Python?\n",
    "\n",
    "d1={1:'krishil',2:'jenil'}\n",
    "x=d1.items()\n",
    "\n",
    "for i in x:\n",
    "    print(i)"
   ]
  },
  {
   "cell_type": "code",
   "execution_count": null,
   "id": "3b767959",
   "metadata": {},
   "outputs": [],
   "source": [
    "# Q-37 How Do You Check The Presence Of A Key In A Dictionary?\n",
    "\n",
    "d1 = {'pandya':'india','rohit':'p'}\n",
    "for i in d1:\n",
    "    print(i)"
   ]
  },
  {
   "cell_type": "code",
   "execution_count": null,
   "id": "fa7b96a4",
   "metadata": {},
   "outputs": [],
   "source": [
    "# Q-38 Write a Python script to print a dictionary where the keys are numbers between 1 and 15.\n",
    "\n",
    "d1={}\n",
    "for i in range(1,16):\n",
    "    d1[i]=i*i\n",
    "print(d1)"
   ]
  },
  {
   "cell_type": "code",
   "execution_count": null,
   "id": "34ab9381",
   "metadata": {},
   "outputs": [],
   "source": [
    "# Q-39 Write a Python program to check multiple keys exists in a dictionary\n",
    "\n",
    "d={1:2,3:4,5:6}\n",
    "d1={}\n",
    "for i in d:\n",
    "    if i not in d1:\n",
    "        d1.update(d)\n",
    "print(d)"
   ]
  },
  {
   "cell_type": "code",
   "execution_count": null,
   "id": "76c3d287",
   "metadata": {},
   "outputs": [],
   "source": [
    "# Q-40 Write a Python script to merge two Python dictionaries\n",
    "\n",
    "d={1:23,3:4}\n",
    "d1={'krishil':'jenil'}\n",
    "d2={}\n",
    "for i in (d,d1):\n",
    "    d2.update(i)\n",
    "print(d2)"
   ]
  },
  {
   "cell_type": "code",
   "execution_count": null,
   "id": "8e12199d",
   "metadata": {},
   "outputs": [],
   "source": [
    "# Q-41 Write a Python program to map two lists into a dictionary\n",
    "\n",
    "l1=[[1,33],[5,3]]\n",
    "l2=[[5,4],[2,1]]\n",
    "d={}\n",
    "dict(l1)\n",
    "dict(l2)\n",
    "ds=d.update(l1)\n",
    "ad=d.update(l2)\n",
    "print(d)"
   ]
  },
  {
   "cell_type": "code",
   "execution_count": null,
   "id": "5dae22d6",
   "metadata": {},
   "outputs": [],
   "source": [
    "# Q-42 Write a Python program to combine two dictionary adding values for common keys.\n",
    "\n",
    "d1 = {'a':100, 'b':200, 'c':300}\n",
    "d2 = {'a':300, 'b':200, 'd':400}\n",
    "\n",
    "for i in d1:\n",
    "    if i in d2:\n",
    "        d2[i] = d1[i]+d2[i]\n",
    "    else:\n",
    "        d2[i]=d1[i]\n",
    "    \n",
    "print(d2)"
   ]
  },
  {
   "cell_type": "code",
   "execution_count": null,
   "id": "3a135305",
   "metadata": {},
   "outputs": [],
   "source": [
    "# q-43 Write a Python program to print all unique values in a dictionary.\n",
    "\n",
    "d1={'krishil':1,2:3,1:6,5:6,6:8}\n",
    "a = d1.values()\n",
    "\n",
    "l1 = []\n",
    "b = list(a)\n",
    "\n",
    "for i in b:\n",
    "    if i not in l1:\n",
    "        l1.append(i)\n",
    "print(l1)"
   ]
  },
  {
   "cell_type": "code",
   "execution_count": null,
   "id": "1c9e673c",
   "metadata": {},
   "outputs": [],
   "source": [
    "# Q-44 Why Do You Use the Zip () Method in Python?\n",
    "\n",
    "\n",
    "# Python's zip() function creates an iterator that will aggregate elements from two or more iterables.\n",
    "# You can use the resulting iterator to quickly and consistently solve common programming problems,\n",
    "# like creating dictionaries"
   ]
  },
  {
   "cell_type": "code",
   "execution_count": null,
   "id": "b5be5f57",
   "metadata": {},
   "outputs": [],
   "source": [
    "# Q-45 Write a Python program to create and display all combinations of letters, selecting each letter from a different key in a dictionary.\n",
    "#o Sample data: {'1': ['a','b'], '2': ['c','d']}\n",
    "#o Expected Output:\n",
    "#o ac ad bc bd\n",
    "\n",
    "d1 = {'1':['a','b'], '2': ['c','d']}\n",
    "x = list(d1.values)\n",
    "l1 = []\n",
    "\n",
    "for i in x:\n",
    "   \n",
    "    \n",
    "\n",
    " "
   ]
  },
  {
   "cell_type": "code",
   "execution_count": null,
   "id": "1c6a21c3",
   "metadata": {},
   "outputs": [],
   "source": [
    "# Q-46 Write a Python program to find the highest 3 values in a dictionary\n",
    "\n",
    "d1={'krishil':1,'jenil':2,3:4,5:7}\n",
    "x =list(d1.values())\n",
    "\n",
    "a = max(x)\n",
    "x.remove(a)\n",
    "\n",
    "b = max(x)\n",
    "x.remove(b)\n",
    "\n",
    "c = max(x)\n",
    "x.remove(c)\n",
    "\n",
    "print(a,b,c)\n"
   ]
  },
  {
   "cell_type": "code",
   "execution_count": null,
   "id": "7feea5b2",
   "metadata": {},
   "outputs": [],
   "source": [
    "d1={1:2,5:7,6:87,4:98}\n",
    "x=list(d1.values())\n",
    "\n",
    "x.sort()\n",
    "v=x[-1:-4:-1]\n",
    "print('highest 3 values',v)"
   ]
  },
  {
   "cell_type": "code",
   "execution_count": null,
   "id": "879999e8",
   "metadata": {},
   "outputs": [],
   "source": [
    "# Q-47 Write a Python program to combine values in python list of dictionaries. Sample data: [{'item': 'item1', 'amount': 400}, {'item': 'item2', 'amount': 300},\n",
    "#o {'item': 'item1', 'amount': 750}]\n",
    "#o Expected Output: Counter ({'item1': 1150, 'item2': 300})\n",
    "\n",
    "l1= [{'item': 'item1', 'amount': 400}, {'item': 'item2', 'amount': 300},{'item': 'item1', 'amount': 750}]\n",
    "\n",
    "all_keys = []\n",
    "for single_dict in l1:\n",
    "    all_keys.append(list(single_dict.values())[0])\n",
    "    \n",
    "final_dict = dict.fromkeys(all_keys, 0)\n",
    "\n",
    "for single_key in final_dict:\n",
    "    for single_dict in l1:\n",
    "        values_list = list(single_dict.values())\n",
    "        if single_key == values_list[0]:\n",
    "            final_dict[single_key] += values_list[1]\n",
    "            continue\n",
    "        else:\n",
    "            continue\n",
    "\n",
    "print(final_dict)"
   ]
  },
  {
   "cell_type": "code",
   "execution_count": null,
   "id": "6fb3f8da",
   "metadata": {},
   "outputs": [],
   "source": [
    "# Q-48 Write a Python program to create a dictionary from a string.\n",
    "#o Note: Track the count of the letters from the string. Sample string: 'w3resource'\n",
    "#o Expected output: {'3': 1,’s’: 1, 'r': 2, 'u': 1, 'w': 1, 'c': 1, 'e': 2, 'o': 1}"
   ]
  },
  {
   "cell_type": "code",
   "execution_count": null,
   "id": "51d234b7",
   "metadata": {},
   "outputs": [],
   "source": [
    "# Q-49 Write a Python function to calculate the factorial of a number (a non-negative integer)\n",
    "\n",
    "def a(num):\n",
    "    for i in range(1,num):\n",
    "        num = num*i\n",
    "    return num\n",
    "\n",
    "print(a(int(input())))"
   ]
  },
  {
   "cell_type": "code",
   "execution_count": null,
   "id": "807946cc",
   "metadata": {},
   "outputs": [],
   "source": [
    "# Q-50 Write a Python function to check whether a number is in a given range\n",
    "\n",
    "def a(num):\n",
    "    if a in range(1,10):\n",
    "        print(num,'exist')\n",
    "    else:\n",
    "        print(num,'not exist')\n",
    "    \n",
    "print(a(int(input())))"
   ]
  },
  {
   "cell_type": "code",
   "execution_count": null,
   "id": "6fa6d4a8",
   "metadata": {},
   "outputs": [],
   "source": [
    "# Q-51 Write a Python function to check whether a number is perfect or not.\n",
    "\n",
    "def a(num):\n",
    "    sum=0\n",
    "    for x in range(1,num):\n",
    "        if num % x == 0:\n",
    "            sum += x\n",
    "    return sum == num\n",
    "\n",
    "a(int(input()))\n",
    "    "
   ]
  },
  {
   "cell_type": "code",
   "execution_count": null,
   "id": "d42c6741",
   "metadata": {},
   "outputs": [],
   "source": [
    "# Q-52 Write a Python function that checks whether a passed string is palindrome or not\n",
    "# palindrome -> given string is same as its reveres than its called polindrome\n",
    "\n",
    "def jenil(a):\n",
    "    if a == a[-1::-1]:\n",
    "        print('palindrome')\n",
    "    else:\n",
    "        print('not palindrome')\n",
    "        \n",
    "jenil(input())"
   ]
  },
  {
   "cell_type": "code",
   "execution_count": null,
   "id": "5186449a",
   "metadata": {},
   "outputs": [],
   "source": [
    "# Q-53 How do you perform pattern matching in Python? Explain\n",
    "\n"
   ]
  },
  {
   "cell_type": "code",
   "execution_count": null,
   "id": "e73178b9",
   "metadata": {},
   "outputs": [],
   "source": [
    "# Q-54 What is lambda function in python? What we call a function which is incomplete version of a function?\n",
    "\n",
    "# A lambda function is a small anonymous function.\n",
    "# A lambda function has no name\n",
    "# A lambda function can take any number of arguments, but can only have one expression.\n",
    "\n",
    "# A function which is incomplete version of a function is stub"
   ]
  },
  {
   "cell_type": "code",
   "execution_count": null,
   "id": "1be7d306",
   "metadata": {},
   "outputs": [],
   "source": [
    "# Q-55 How Many Basic Types Of Functions Are Available In Python?\n",
    "\n",
    "# There are mainly two types of basic functions in python but we will consider 3\n",
    "# They are:\n",
    "# 1. Built in functions or pre-defined functions\n",
    "# 2. User defined function\n",
    "# 3. Anonymous function"
   ]
  },
  {
   "cell_type": "code",
   "execution_count": null,
   "id": "b028165f",
   "metadata": {},
   "outputs": [],
   "source": [
    "# Q-62 Write a Python program to convert degree to radian\n",
    "\n",
    "pi=22/7\n",
    "degree = float(input(\"Input degrees: \"))\n",
    "radian = degree*(pi/180)\n",
    "print(radian)"
   ]
  },
  {
   "cell_type": "code",
   "execution_count": 8,
   "id": "3fda4b3f",
   "metadata": {},
   "outputs": [
    {
     "name": "stdout",
     "output_type": "stream",
     "text": [
      "Height of trapezoid: 56\n",
      "Base one value: 65\n",
      "Base two value: 56\n",
      "Area is: 3388.0\n"
     ]
    }
   ],
   "source": [
    "# Q-63 Write a Python program to calculate the area of a trapezoid\n",
    "\n",
    "base_1 = 5\n",
    "base_2 = 6\n",
    "height = float(input(\"Height of trapezoid: \"))\n",
    "base_1 = float(input('Base one value: '))\n",
    "base_2 = float(input('Base two value: '))\n",
    "area = ((base_1 + base_2) / 2) * height\n",
    "print(\"Area is:\", area)\n"
   ]
  },
  {
   "cell_type": "code",
   "execution_count": null,
   "id": "da22fa61",
   "metadata": {},
   "outputs": [],
   "source": [
    "# Q-64 Write a Python program to calculate the area of a parallelogram\n",
    "\n",
    "base = float(input('Length of base: '))\n",
    "height = float(input('Measurement of height: '))\n",
    "area = base * height\n",
    "print(\"Area is: \", area)\n"
   ]
  },
  {
   "cell_type": "code",
   "execution_count": null,
   "id": "c47f604f",
   "metadata": {},
   "outputs": [],
   "source": [
    "# Q-65 Write a Python program to calculate surface volume and area of a cylinder\n",
    "\n",
    "pi=22/7\n",
    "height = float(input('Height of cylinder: '))\n",
    "radian = float(input('Radius of cylinder: '))\n",
    "volume = pi * radian * radian * height\n",
    "sur_area = ((2*pi*radian) * height) + ((pi*radian**2)*2)\n",
    "print(\"Volume is: \", volume)\n",
    "print(\"Surface Area is: \", sur_area)\n"
   ]
  },
  {
   "cell_type": "code",
   "execution_count": null,
   "id": "47ba09fd",
   "metadata": {},
   "outputs": [],
   "source": [
    "# Q-66 Write a Python program to returns sum of all divisors of a number\n",
    "\n"
   ]
  },
  {
   "cell_type": "code",
   "execution_count": null,
   "id": "f0072ab6",
   "metadata": {},
   "outputs": [],
   "source": [
    "# Q-67 Write a Python program to find the maximum and minimum numbers from the specified decimal numbers.\n",
    "\n"
   ]
  },
  {
   "cell_type": "code",
   "execution_count": 7,
   "id": "c4e3a782",
   "metadata": {},
   "outputs": [
    {
     "data": {
      "text/plain": [
       "[34, 5, 7, 12, 56]"
      ]
     },
     "execution_count": 7,
     "metadata": {},
     "output_type": "execute_result"
    }
   ],
   "source": [
    "list1 = [12,34,5,56,5,12,7]\n",
    "a = set(list1)\n",
    "a\n",
    "\n",
    "b = list(a)\n",
    "b"
   ]
  }
 ],
 "metadata": {
  "kernelspec": {
   "display_name": "Python 3 (ipykernel)",
   "language": "python",
   "name": "python3"
  },
  "language_info": {
   "codemirror_mode": {
    "name": "ipython",
    "version": 3
   },
   "file_extension": ".py",
   "mimetype": "text/x-python",
   "name": "python",
   "nbconvert_exporter": "python",
   "pygments_lexer": "ipython3",
   "version": "3.9.13"
  }
 },
 "nbformat": 4,
 "nbformat_minor": 5
}
