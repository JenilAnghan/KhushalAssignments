{
 "cells": [
  {
   "cell_type": "code",
   "execution_count": 1,
   "id": "26e91eab",
   "metadata": {},
   "outputs": [
    {
     "data": {
      "text/plain": [
       "[34, 67, 43, 12, 89]"
      ]
     },
     "execution_count": 1,
     "metadata": {},
     "output_type": "execute_result"
    }
   ],
   "source": [
    "#Q-8 Write a Python program to remove duplicates from a list\n",
    "list1 = [12,43,34,67,89,12]\n",
    "set1 = set(list1)\n",
    "set1\n",
    "\n",
    "list1 = list(set1)\n",
    "list1"
   ]
  },
  {
   "cell_type": "code",
   "execution_count": 3,
   "id": "e8730e60",
   "metadata": {},
   "outputs": [
    {
     "name": "stdout",
     "output_type": "stream",
     "text": [
      "not empty str\n",
      "not empty str\n",
      "not empty str\n"
     ]
    },
    {
     "data": {
      "text/plain": [
       "[]"
      ]
     },
     "execution_count": 3,
     "metadata": {},
     "output_type": "execute_result"
    }
   ],
   "source": [
    "#Q-9 Write a Python program to check a list is empty or not.\n",
    "list1 = ['krishil','jenil','jeel']\n",
    "\n",
    "def a(list1):\n",
    "    if len(list1) == 0:\n",
    "        print('empty str')\n",
    "    else:\n",
    "        print('not empty str')\n",
    "        \n",
    "list(filter(a,list1))"
   ]
  },
  {
   "cell_type": "code",
   "execution_count": 16,
   "id": "5e7644d0",
   "metadata": {},
   "outputs": [
    {
     "name": "stdout",
     "output_type": "stream",
     "text": [
      "True\n"
     ]
    }
   ],
   "source": [
    "#Q-10 Write a Python function that takes two lists and returns true if they have at least one common member.\n",
    "list1 = [12,45,0,67,89]\n",
    "list2 = [54,0,2376]\n",
    "result = False\n",
    "for i in list1:\n",
    "    for j in list2:\n",
    "        if i == j:\n",
    "            result = True\n",
    "print(result)\n",
    "        "
   ]
  },
  {
   "cell_type": "code",
   "execution_count": 5,
   "id": "e094830a",
   "metadata": {},
   "outputs": [
    {
     "name": "stdout",
     "output_type": "stream",
     "text": [
      "[1, 2, 3, 4, 5, 6, 7, 8, 9, 10, 11, 12, 13, 14, 15, 16, 17, 18, 19, 20, 21, 22, 23, 24, 25, 26, 27, 28, 29, 30]\n",
      "[1, 2, 3, 4, 5, 26, 27, 28, 29, 30]\n"
     ]
    }
   ],
   "source": [
    "#Q-11 Write a Python program to generate and print a list of first and last 5 elements where the values are square of numbers between 1 and 30.\n",
    "\n",
    "list1 = []\n",
    "for i in range(1,31):\n",
    "    list1.append(i)\n",
    "print(list1)\n",
    "\n",
    "l1 = list1[0:5:]\n",
    "l2 = list1[-5::]\n",
    "print(l1+l2)\n"
   ]
  },
  {
   "cell_type": "code",
   "execution_count": 6,
   "id": "70a14782",
   "metadata": {},
   "outputs": [
    {
     "name": "stdout",
     "output_type": "stream",
     "text": [
      "[1, 2, 3, 4, 5, 6]\n"
     ]
    }
   ],
   "source": [
    "#Q-12 Write a Python function that takes a list and returns a new list with unique \n",
    "elements of the first list.\n",
    "def unique(a):\n",
    "    x =[]\n",
    "    for i in a:\n",
    "        if i not in x:\n",
    "            x.append(i)\n",
    "    return x\n",
    "print(unique([1,2,3,4,4,5,5,6]))"
   ]
  },
  {
   "cell_type": "code",
   "execution_count": 7,
   "id": "555dbce7",
   "metadata": {},
   "outputs": [
    {
     "name": "stdout",
     "output_type": "stream",
     "text": [
      "(1, 2, 34, 5)\n"
     ]
    }
   ],
   "source": [
    "#Q-21 Write a Python program to create a tuple with numbers.\n",
    "a = 1,2,34,5\n",
    "print(a)"
   ]
  },
  {
   "cell_type": "code",
   "execution_count": 8,
   "id": "ba61bf70",
   "metadata": {},
   "outputs": [
    {
     "name": "stdout",
     "output_type": "stream",
     "text": [
      "krishil\n"
     ]
    }
   ],
   "source": [
    "#Q-22 Write a Python program to convert a tuple to a string.\n",
    "def a(tup):\n",
    "    str = ''\n",
    "    for item in tup:\n",
    "        str = str + item\n",
    "    return str\n",
    "\n",
    "tuple = ('k','r','i','s','h','i','l')\n",
    "str1 = a(tuple)\n",
    "print(str1)"
   ]
  },
  {
   "cell_type": "code",
   "execution_count": 13,
   "id": "284d8d38",
   "metadata": {},
   "outputs": [
    {
     "name": "stdout",
     "output_type": "stream",
     "text": [
      "('krishil', 'krish')\n",
      "2\n"
     ]
    }
   ],
   "source": [
    "#Q-24 Write a Python program to find the length of a tuple.\n",
    "tuple = (\"krishil\",'krish')\n",
    "print(tuple)\n",
    "\n",
    "print(len(tuple))"
   ]
  }
 ],
 "metadata": {
  "kernelspec": {
   "display_name": "Python 3 (ipykernel)",
   "language": "python",
   "name": "python3"
  },
  "language_info": {
   "codemirror_mode": {
    "name": "ipython",
    "version": 3
   },
   "file_extension": ".py",
   "mimetype": "text/x-python",
   "name": "python",
   "nbconvert_exporter": "python",
   "pygments_lexer": "ipython3",
   "version": "3.9.12"
  }
 },
 "nbformat": 4,
 "nbformat_minor": 5
}
